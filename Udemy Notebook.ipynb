{
 "cells": [
  {
   "cell_type": "code",
   "execution_count": null,
   "id": "c34efc7e",
   "metadata": {},
   "outputs": [],
   "source": [
    "# Usar modulos como o PyPDF2 não é possível pois o certificado em pdf da Udemy vem como uma imagem transformada em .pdf,\n",
    "# ao invés de uma página escrita. O desafio aqui é fazer a leitura de uma imagem na verdade, e não de texto propriamente dito.\n",
    "# Para isso, uma ferramenta interessante é o pytesseract, um optical character recognizer, para ler o texto de imagens. \n",
    "\n",
    "# Antes do uso do Pytesseract, é utilizado o modulo pdf2image para ler e transformar a página numa imagem, que será então lida.\n",
    "# It would have been faster to just type the certificate codes into the notepad.\n",
    "\n",
    "# IDEIAS ESCOPO DO PROJETO:\n",
    "# selecionar qual o certificado para extrair:\n",
    "    # 1 = udemy, 2 = coursera\n",
    "# ensinar o script a transformar pdf para imagem para depois aplicar o tesseract\n",
    "# no caso do python, splittar melhor os textos ali\n",
    "\n",
    "import pytesseract\n",
    "from pdf2image import convert_from_path\n",
    "import tempfile\n",
    "import easygui as eg\n",
    "\n",
    "# Pytesseract '.exe' location\n",
    "pytesseract.pytesseract.tesseract_cmd = r'C:\\Program Files\\Tesseract-OCR\\tesseract.exe'\n",
    "\n",
    "# Poppler path (pdf2image)\n",
    "pppath = r'C:\\Program Files\\poppler-22.04.0\\Library\\bin'\n",
    "\n",
    "# File to read\n",
    "#file = (r'C:\\Users\\pedri\\Desktop\\Stuff\\Cursos\\teste.png')\n",
    "file = (r'C:\\Users\\pedri\\Desktop\\Stuff\\Cursos\\Cert_SQL_Zero_to_Hero.pdf')"
   ]
  },
  {
   "cell_type": "code",
   "execution_count": null,
   "id": "0fac03ac",
   "metadata": {
    "scrolled": true
   },
   "outputs": [],
   "source": [
    "# Get .pdf file location\n",
    "path = eg.fileopenbox()"
   ]
  },
  {
   "cell_type": "code",
   "execution_count": null,
   "id": "1a989f0c",
   "metadata": {},
   "outputs": [],
   "source": [
    "# Convert from pdf to image\n",
    "converted = convert_from_path(file, single_file=True, poppler_path = pppath)"
   ]
  },
  {
   "cell_type": "code",
   "execution_count": null,
   "id": "e4dd2ec5",
   "metadata": {},
   "outputs": [],
   "source": [
    "# LER ISSO https://stackoverflow.com/questions/54756773/unable-to-read-image-data-when-converting-from-pdf-to-image"
   ]
  },
  {
   "cell_type": "code",
   "execution_count": null,
   "id": "1c8175e2",
   "metadata": {},
   "outputs": [],
   "source": [
    "# tá dando pau. Necessário criar um arquivo temporário pra acessar e ler pelo pytesseract !!!\n",
    "\n",
    "def Udemy():\n",
    "    data = (pytesseract.image_to_string(converted))\n",
    "    ds = data.split('\\n')\n",
    "    print(ds)\n",
    "    pass\n",
    "\n",
    "Udemy()\n",
    "\n",
    "def Coursera():\n",
    "    data = (pytesseract.image_to_string(file))\n",
    "    ds = data.split('\\n')\n",
    "    print(ds)\n",
    "    \n",
    "#Coursera()\n",
    "#localização da string do link: string onde tem o verify, cata a posição dela e soma +1 pro link."
   ]
  },
  {
   "cell_type": "code",
   "execution_count": null,
   "id": "04b7a4e5",
   "metadata": {},
   "outputs": [],
   "source": [
    "def Choice():\n",
    "    print(\"Choose the certificate type: \")\n",
    "    print(\" 1 - Udemy  /  2 - Coursera \")\n",
    "    choice = input('Choose a number (1-2): ')\n",
    "    \n",
    "    if choice == '1':\n",
    "        Udemy()\n",
    "        \n",
    "    elif choice == '2':\n",
    "        Coursera()\n",
    "    \n",
    "    elif choice not in ['1','2']:\n",
    "        print('Select a valid number')\n",
    "        choice\n",
    "    \n",
    "Choice()"
   ]
  },
  {
   "cell_type": "code",
   "execution_count": null,
   "id": "c658fd30",
   "metadata": {},
   "outputs": [],
   "source": [
    "import easygui as eg\n",
    "eg.fileopenbox()\n"
   ]
  },
  {
   "cell_type": "code",
   "execution_count": null,
   "id": "c29ee6e8",
   "metadata": {},
   "outputs": [],
   "source": []
  }
 ],
 "metadata": {
  "kernelspec": {
   "display_name": "Python 3 (ipykernel)",
   "language": "python",
   "name": "python3"
  },
  "language_info": {
   "codemirror_mode": {
    "name": "ipython",
    "version": 3
   },
   "file_extension": ".py",
   "mimetype": "text/x-python",
   "name": "python",
   "nbconvert_exporter": "python",
   "pygments_lexer": "ipython3",
   "version": "3.9.7"
  }
 },
 "nbformat": 4,
 "nbformat_minor": 5
}
